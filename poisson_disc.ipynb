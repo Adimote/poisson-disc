{
 "cells": [
  {
   "cell_type": "code",
   "execution_count": 2,
   "metadata": {
    "collapsed": false
   },
   "outputs": [],
   "source": [
    "from matplotlib import pyplot as plt\n",
    "import seaborn\n",
    "from math import sqrt\n",
    "from poisson_disc import Grid\n",
    "import random\n",
    "%matplotlib inline"
   ]
  },
  {
   "cell_type": "code",
   "execution_count": 3,
   "metadata": {
    "collapsed": false
   },
   "outputs": [],
   "source": [
    "r = 1\n",
    "length = 20\n",
    "width = 10\n",
    "grid = Grid(r, length, width)"
   ]
  },
  {
   "cell_type": "code",
   "execution_count": 4,
   "metadata": {
    "collapsed": false
   },
   "outputs": [],
   "source": [
    "rand = (random.uniform(0, length), random.uniform(0, width))\n",
    "data = grid.poisson(rand)"
   ]
  },
  {
   "cell_type": "code",
   "execution_count": 5,
   "metadata": {
    "collapsed": false
   },
   "outputs": [],
   "source": [
    "def unzip(items):\n",
    "    return [item[0] for item in items], [item[1] for item in items]"
   ]
  },
  {
   "cell_type": "code",
   "execution_count": 11,
   "metadata": {
    "collapsed": false
   },
   "outputs": [
    {
     "data": {
      "text/plain": [
       "<matplotlib.lines.Line2D at 0x1084ca7f0>"
      ]
     },
     "execution_count": 11,
     "metadata": {},
     "output_type": "execute_result"
    },
    {
     "data": {
      "image/png": "[encoded data removed]",
      "text/plain": [
       "<matplotlib.figure.Figure at 0x10813e7f0>"
      ]
     },
     "metadata": {},
     "output_type": "display_data"
    }
   ],
   "source": [
    "plt.scatter(*unzip(data))\n",
    "plt.axvline(ymin=2/14, ymax=12/14, color='red')\n",
    "plt.axvline(x=20, ymin=2/14, ymax=12/14, color='red')\n",
    "plt.axhline(y=10, xmin=5/30, xmax=25/30, color='red')\n",
    "plt.axhline(y=0, xmin=5/30, xmax=25/30, color='red')"
   ]
  },
  {
   "cell_type": "code",
   "execution_count": 6,
   "metadata": {
    "collapsed": false
   },
   "outputs": [
    {
     "name": "stdout",
     "output_type": "stream",
     "text": [
      "samples: 133\n",
      "density (samples/area): 1\n"
     ]
    }
   ],
   "source": [
    "print(\"samples: {}\".format(len(data)))\n",
    "print(\"density (samples/area): {}\".format(round(len(data)/(length*width))))"
   ]
  },
  {
   "cell_type": "code",
   "execution_count": 12,
   "metadata": {
    "collapsed": false
   },
   "outputs": [],
   "source": [
    "r = 5\n",
    "length = 100\n",
    "width = 80\n",
    "grid = Grid(r, length, width)"
   ]
  },
  {
   "cell_type": "code",
   "execution_count": 13,
   "metadata": {
    "collapsed": false
   },
   "outputs": [],
   "source": [
    "rand = (random.uniform(0, length), random.uniform(0, width))\n",
    "samples = grid.poisson(rand, 10)"
   ]
  },
  {
   "cell_type": "code",
   "execution_count": 16,
   "metadata": {
    "collapsed": false
   },
   "outputs": [
    {
     "data": {
      "text/plain": [
       "<matplotlib.lines.Line2D at 0x10906eda0>"
      ]
     },
     "execution_count": 16,
     "metadata": {},
     "output_type": "execute_result"
    },
    {
     "data": {
      "image/png": "[encoded data removed]",
      "text/plain": [
       "<matplotlib.figure.Figure at 0x1087abba8>"
      ]
     },
     "metadata": {},
     "output_type": "display_data"
    }
   ],
   "source": [
    "plt.scatter(*unzip(samples))\n",
    "plt.axvline(x=0, ymin=10/90, ymax=80/90, color='red')\n",
    "plt.axvline(x=100, ymin=10/90, ymax=80/90, color='red')\n",
    "plt.axhline(y=80, xmin=20/140, xmax=120/140, color='red')\n",
    "plt.axhline(y=0, xmin=20/140, xmax=120/140, color='red')"
   ]
  },
  {
   "cell_type": "code",
   "execution_count": 10,
   "metadata": {
    "collapsed": false
   },
   "outputs": [
    {
     "name": "stdout",
     "output_type": "stream",
     "text": [
      "samples: 196\n",
      "density (samples/area): 0.02\n"
     ]
    }
   ],
   "source": [
    "print(\"samples: {}\".format(len(samples)))\n",
    "print(\"density (samples/area): {}\".format(round(len(samples)/(length*width), 2)))"
   ]
  },
  {
   "cell_type": "code",
   "execution_count": null,
   "metadata": {
    "collapsed": true
   },
   "outputs": [],
   "source": []
  }
 ],
 "metadata": {
  "kernelspec": {
   "display_name": "Python 3",
   "language": "python",
   "name": "python3"
  },
  "language_info": {
   "codemirror_mode": {
    "name": "ipython",
    "version": 3
   },
   "file_extension": ".py",
   "mimetype": "text/x-python",
   "name": "python",
   "nbconvert_exporter": "python",
   "pygments_lexer": "ipython3",
   "version": "3.4.3"
  }
 },
 "nbformat": 4,
 "nbformat_minor": 0
}
